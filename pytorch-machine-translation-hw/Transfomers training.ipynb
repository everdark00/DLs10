{
 "cells": [
  {
   "cell_type": "markdown",
   "id": "1a62d887-01aa-4980-9220-3bf28c077504",
   "metadata": {},
   "source": [
    "### Домашнее задание Transformers Training (50 баллов)"
   ]
  },
  {
   "cell_type": "markdown",
   "id": "f31d7452-febe-4d25-a9c1-005fcc26b35b",
   "metadata": {},
   "source": [
    "В этом домашнем задании требуется обучить несколько Transformer-based моделей в задаче машинного перевода. Для обучения можно воспользоваться текущим проектом, так и реализовать свой пайплайн обучения. Если будете использовать проект, теги **TODO** проекта отмечают, какие компоненты надо реализовать.\n",
    "В ноутбуке нужно только отобразить результаты обучения и выводы. Архитектура модели(количетсво слоев, размерность и тд) остается на ваш выбор.\n",
    "\n",
    "Ваш код обучения нужно выложить на ваш github, в строке ниже дать ссылку на него. В первую очередь будут оцениваться результаты в ноутбуке, код нужен для проверки адекватности результатов. \n",
    "\n",
    "Обучать модели до конца не нужно, только для демонстрации, что модель обучается и рабочая - снижение val_loss, рост bleu_score."
   ]
  },
  {
   "cell_type": "markdown",
   "id": "a691e7b9-6538-42b1-96b8-838f2efab4af",
   "metadata": {},
   "source": [
    "#### Сcылка на ваш github с проектом(вставить свой) - https://github.com/everdark00/DLs10.git\n",
    "\n",
    "Ноутбук с результатами выкладывать на ваш **google диск** курса. "
   ]
  },
  {
   "cell_type": "markdown",
   "id": "dbca1e62-b210-4426-9854-55b652417a4b",
   "metadata": {},
   "source": [
    "### Данные\n",
    "\n",
    "`\n",
    "wget https://www.manythings.org/anki/rus-eng.zip && unzip rus-eng.zip\n",
    "`\n",
    "\n",
    "Модели нужно обучить на задаче перевода с английского на русский. "
   ]
  },
  {
   "cell_type": "markdown",
   "id": "cc772a6e-7d1a-4d8d-8024-0454a948835b",
   "metadata": {
    "tags": []
   },
   "source": [
    "### Обучение Seq2seq Transformer модель(25 баллов)\n",
    "\n",
    "Реализуйте Seq2seq Transformer. В качестве блока трансформера можно использовать https://pytorch.org/docs/stable/generated/torch.nn.Transformer.html. В качестве токенизатора воспользуйтесь HuggingFace токенизатор для source/target языков - https://huggingface.co/docs/transformers/fast_tokenizers\n",
    "В качестве максимальной длинны возьмите предложения длинной **до 15 слов**, без каких либо префиксов. \n",
    "\n",
    "Не забудьте остальные элементы модели:\n",
    "* Мы можем использовать 1 трансформер как энкодер - декодером будет выступать линейный слой. \n",
    "* Обучите свой BPE токенизатор - https://huggingface.co/docs/transformers/fast_tokenizers\n",
    "* Матрицу эмбеддингов токенов\n",
    "* Матрицу позицонных эмбеддингов\n",
    "* Линейный слой проекции в target словарь\n",
    "* Функцию маскирования будущих состояний attention, так как модель авто-регрессионна\n",
    "* Learning rate schedualer\n",
    "\n",
    "\n",
    "В качестве результатов, приложите слудующие данные:\n",
    "1) Параметры обучения - learning rate, batch_size, epoch_num, размерность скрытого слоя, количетсво слоев\n",
    "2) Графики обучения - train loss, val loss, bleu score\n",
    "3) Примеры переводов вашей модели(10 штук) - source text, true target text, predicted target text"
   ]
  },
  {
   "cell_type": "code",
   "execution_count": 1,
   "id": "7a7ce070-1e45-47ac-a07a-c36b6baa114e",
   "metadata": {},
   "outputs": [
    {
     "name": "stderr",
     "output_type": "stream",
     "text": [
      "Reading from file: 100%|████████████████████████████████████████████████████████████████████████████████████████| 496059/496059 [00:07<00:00, 63720.36it/s]\n"
     ]
    },
    {
     "name": "stdout",
     "output_type": "stream",
     "text": [
      "175439\n"
     ]
    },
    {
     "name": "stderr",
     "output_type": "stream",
     "text": [
      "  3%|███▊                                                                                                                | 1/30 [03:16<1:34:45, 196.07s/it]"
     ]
    },
    {
     "name": "stdout",
     "output_type": "stream",
     "text": [
      "tr_loss: 3.1030430665533437, val_loss: 3.3362959649441017, bleu: 0.0\n",
      "Current BLEU:  0.0\n",
      "том мне ничего не говорил ---> том никогда не не не\n",
      "мэри погладила рубашки тома ---> мэри мэри тома\n",
      "хватит обвинять во всём тома ---> кто с тома тома\n",
      "том сказал что боится щекотки ---> том сказал что был\n",
      "том заставил себя заговорить ---> том в\n",
      "##############################\n"
     ]
    },
    {
     "name": "stderr",
     "output_type": "stream",
     "text": [
      "  7%|███████▋                                                                                                            | 2/30 [06:32<1:31:38, 196.37s/it]"
     ]
    },
    {
     "name": "stdout",
     "output_type": "stream",
     "text": [
      "tr_loss: 2.223825092085297, val_loss: 2.936172862122529, bleu: 0.0\n",
      "Current BLEU:  0.0\n",
      "можно у тебя словарь одолжить ---> можно я твой твой\n",
      "иди прямо по этой улице ---> идите на это это\n",
      "будет снежная буря ---> есть будет быть\n",
      "том хотел покинуть австралию ---> том хотел в в\n",
      "я восхищаюсь вашей реши мо стью ---> я с твой как\n",
      "##############################\n"
     ]
    },
    {
     "name": "stderr",
     "output_type": "stream",
     "text": [
      " 10%|███████████▌                                                                                                        | 3/30 [09:49<1:28:32, 196.77s/it]"
     ]
    },
    {
     "name": "stdout",
     "output_type": "stream",
     "text": [
      "tr_loss: 1.8870175252095502, val_loss: 2.6946027070066356, bleu: 0.0\n",
      "Current BLEU:  0.0\n",
      "я всё делаю неправильно ---> я всё всё всё\n",
      "спасибо что вы пригласили меня ---> спасибо что мне меня\n",
      "прошу вас ближе к делу ---> пожалуйста пожалуйста в\n",
      "сал ют начнётся после наступления темноты ---> у будет\n",
      "я хотел иметь детей ---> мне хотел быть надо\n",
      "##############################\n"
     ]
    },
    {
     "name": "stderr",
     "output_type": "stream",
     "text": [
      " 13%|███████████████▍                                                                                                    | 4/30 [13:07<1:25:27, 197.22s/it]"
     ]
    },
    {
     "name": "stdout",
     "output_type": "stream",
     "text": [
      "tr_loss: 1.6930453006853923, val_loss: 2.597381006192117, bleu: 0.01653344880722375\n",
      "Current BLEU:  0.01653344880722375\n",
      "гении тоже совершают ошибки ---> как хорошо хорошо\n",
      "спасибо пожалуйста ---> спасибо что что\n",
      "к счастью я успел вовремя ---> стые я была\n",
      "почему на меня наде вают наручники ---> почему я я\n",
      "ты работала вчера ночью ---> ты был на\n",
      "##############################\n"
     ]
    },
    {
     "name": "stderr",
     "output_type": "stream",
     "text": [
      " 17%|███████████████████▎                                                                                                | 5/30 [16:26<1:22:24, 197.79s/it]"
     ]
    },
    {
     "name": "stdout",
     "output_type": "stream",
     "text": [
      "tr_loss: 1.5551681956488541, val_loss: 2.4840218281223825, bleu: 0.01653344880722375\n",
      "Current BLEU:  0.01653344880722375\n",
      "я знал что это случится ---> я знал что это это\n",
      "у вас много друзей ---> у тебя из\n",
      "том не играет в теннис ---> том не в в\n",
      "небо сегодня хму рое ---> сегодня сегодня сегодня\n",
      "это прозвучало несколько отчая нно ---> это то немного\n",
      "##############################\n"
     ]
    },
    {
     "name": "stderr",
     "output_type": "stream",
     "text": [
      " 20%|███████████████████████▏                                                                                            | 6/30 [19:45<1:19:17, 198.24s/it]"
     ]
    },
    {
     "name": "stdout",
     "output_type": "stream",
     "text": [
      "tr_loss: 1.4476734119430932, val_loss: 2.382634719792944, bleu: 0.005224533844739199\n",
      "Current BLEU:  0.005224533844739199\n",
      "она вернулась из поездки ---> она бы из\n",
      "том любит смотреть баскетбол ---> том любит за\n",
      "она далеко не красавица ---> она из из из\n",
      "ты уроки делаешь ---> ты твои\n",
      "было предло жено три варианта ---> три были были\n",
      "##############################\n"
     ]
    },
    {
     "name": "stderr",
     "output_type": "stream",
     "text": [
      " 23%|███████████████████████████                                                                                         | 7/30 [23:04<1:16:06, 198.53s/it]"
     ]
    },
    {
     "name": "stdout",
     "output_type": "stream",
     "text": [
      "tr_loss: 1.3584002310727659, val_loss: 2.3277199364056553, bleu: 0.005224533844739199\n",
      "Current BLEU:  0.005224533844739199\n",
      "всё выглядит таким вкусным ---> всё выглядит так\n",
      "сними шко льную форму ---> возьми с в школу\n",
      "насилие порождает насилие ---> как будьте\n",
      "ты не сильно изменился ---> ты не не\n",
      "он присутствовал на многих це ре мо ния х ---> он много много много\n",
      "##############################\n"
     ]
    },
    {
     "name": "stderr",
     "output_type": "stream",
     "text": [
      " 27%|██████████████████████████████▉                                                                                     | 8/30 [26:24<1:12:55, 198.91s/it]"
     ]
    },
    {
     "name": "stdout",
     "output_type": "stream",
     "text": [
      "tr_loss: 1.2811388703183684, val_loss: 2.29859818463778, bleu: 0.0173932960802299\n",
      "Current BLEU:  0.0173932960802299\n",
      "том помог ранено му ---> том помог человек\n",
      "куда том ходил купаться ---> куда том чтобы\n",
      "том думает что мэри ушла ---> том думает что мэри мэри\n",
      "какая твоя любимая заку ска ---> какой у тебя себя\n",
      "кто ваш любимый композитор ---> кто ваш тебя\n",
      "##############################\n"
     ]
    },
    {
     "name": "stderr",
     "output_type": "stream",
     "text": [
      " 30%|██████████████████████████████████▊                                                                                 | 9/30 [29:43<1:09:40, 199.05s/it]"
     ]
    },
    {
     "name": "stdout",
     "output_type": "stream",
     "text": [
      "tr_loss: 1.2122231430646606, val_loss: 2.243429871806263, bleu: 0.0234375\n",
      "Current BLEU:  0.0234375\n",
      "состояние улуч шается ---> ету жена\n",
      "он действительно такой ценный ---> это действительно так\n",
      "я помню когда это случилось ---> я помню когда это случилось\n",
      "делай как считаешь нужным ---> вы что ты дома\n",
      "свидетелей не было ---> не не было\n",
      "##############################\n"
     ]
    },
    {
     "name": "stderr",
     "output_type": "stream",
     "text": [
      " 33%|██████████████████████████████████████▎                                                                            | 10/30 [33:04<1:06:31, 199.59s/it]"
     ]
    },
    {
     "name": "stdout",
     "output_type": "stream",
     "text": [
      "tr_loss: 1.1511719370279512, val_loss: 2.2078868503118083, bleu: 0.0460553299249691\n",
      "Current BLEU:  0.0460553299249691\n",
      "мне очень понравилась эта книга ---> мне очень эта эта книга\n",
      "мать тома канадка ---> у тома мать\n",
      "том дал маше всё ---> том всё мэри мэри\n",
      "кем был открыт радий ---> кто был не на\n",
      "я жалею что покинул австралию ---> я жалею что из австралии\n",
      "##############################\n"
     ]
    },
    {
     "name": "stderr",
     "output_type": "stream",
     "text": [
      " 37%|██████████████████████████████████████████▏                                                                        | 11/30 [36:25<1:03:20, 200.01s/it]"
     ]
    },
    {
     "name": "stdout",
     "output_type": "stream",
     "text": [
      "tr_loss: 1.0956606482959599, val_loss: 2.191288326343481, bleu: 0.0495115676894784\n",
      "Current BLEU:  0.0495115676894784\n",
      "она превзо шла все мои ожидания ---> это кату волосы моей моей\n",
      "он бегло просмотрел отчёт ---> он если на отчёт\n",
      "я не разбира юсь в эконо ми ке ---> я знаю не не было\n",
      "вы напра ши ваетесь на неприятности ---> у тебя неприятности\n",
      "где находится ближай шая аптека ---> где с\n",
      "##############################\n"
     ]
    },
    {
     "name": "stderr",
     "output_type": "stream",
     "text": [
      " 40%|██████████████████████████████████████████████                                                                     | 12/30 [39:46<1:00:02, 200.14s/it]"
     ]
    },
    {
     "name": "stdout",
     "output_type": "stream",
     "text": [
      "tr_loss: 1.0447101031201693, val_loss: 2.1406762543385915, bleu: 0.0364745338447392\n",
      "Current BLEU:  0.0364745338447392\n",
      "том знает где ты живёшь ---> том знает где ты живёте\n",
      "родители с вами ---> твои с вами вами\n",
      "мы баск ет болист ки ---> мы в\n",
      "их комнаты всегда чистые ---> их всегда всегда в\n",
      "солдат действовал смело ---> стену был ещё\n",
      "##############################\n"
     ]
    },
    {
     "name": "stderr",
     "output_type": "stream",
     "text": [
      " 43%|██████████████████████████████████████████████████▋                                                                  | 13/30 [43:06<56:44, 200.25s/it]"
     ]
    },
    {
     "name": "stdout",
     "output_type": "stream",
     "text": [
      "tr_loss: 0.9976149391019572, val_loss: 2.1444701447974155, bleu: 0.034746414962484554\n",
      "Current BLEU:  0.034746414962484554\n",
      "обстоятельства изменились ---> у диться у\n",
      "я забыла чего хотел том ---> я забыл что хотел хотел\n",
      "том помог с посу дой ---> том помог с посуду\n",
      "эй ты с этим по осторожнее ---> эй будь с этим этим\n",
      "я вчера немного при брался ---> я вчера вчера вчера\n",
      "##############################\n"
     ]
    },
    {
     "name": "stderr",
     "output_type": "stream",
     "text": [
      " 47%|██████████████████████████████████████████████████████▌                                                              | 14/30 [46:27<53:27, 200.46s/it]"
     ]
    },
    {
     "name": "stdout",
     "output_type": "stream",
     "text": [
      "tr_loss: 0.9550111020491573, val_loss: 2.096826952304283, bleu: 0.015780350222473906\n",
      "Current BLEU:  0.015780350222473906\n",
      "эти бананы вкусные ---> те очень очень\n",
      "где я могу купить спе ц одежду ---> где я могу купить\n",
      "когда ты завтра каешь ---> когда ты тает\n",
      "том научил меня терпе нию ---> том тома меня меня\n",
      "эти люди говорят по французски ---> те мужчины говорят по французски\n",
      "##############################\n"
     ]
    },
    {
     "name": "stderr",
     "output_type": "stream",
     "text": [
      " 50%|██████████████████████████████████████████████████████████▌                                                          | 15/30 [49:47<50:05, 200.39s/it]"
     ]
    },
    {
     "name": "stdout",
     "output_type": "stream",
     "text": [
      "tr_loss: 0.9147329894433591, val_loss: 2.1027669010371186, bleu: 0.0434673637697083\n",
      "Current BLEU:  0.0434673637697083\n",
      "мы уже добрые друзья ---> мы уже друзья друзья\n",
      "том назвал своего хомя чка куки ---> том назвал свою потороплюсь\n",
      "я слышал о твоей болезни ---> я слышал о своём мнение\n",
      "том выключил фары ---> том включил свет\n",
      "наш учитель выглядел удивлённым ---> наш наш казался удивлён\n",
      "##############################\n"
     ]
    },
    {
     "name": "stderr",
     "output_type": "stream",
     "text": [
      " 53%|██████████████████████████████████████████████████████████████▍                                                      | 16/30 [53:07<46:43, 200.23s/it]"
     ]
    },
    {
     "name": "stdout",
     "output_type": "stream",
     "text": [
      "tr_loss: 0.8787528931170893, val_loss: 2.0676527236499926, bleu: 0.0364745338447392\n",
      "Current BLEU:  0.0364745338447392\n",
      "прими пожалуйста этот небольшой подарок ---> пожалуйста принимаю этот пожалуйста\n",
      "у нас состоя лся небольшой спор ---> у нас был немного\n",
      "комментариев пока нет ---> ещё ещё нет\n",
      "для всех студентов вход свободный ---> все студенты студенты\n",
      "демо кратия поо щ ряет свободу ---> дня из чего от\n",
      "##############################\n"
     ]
    },
    {
     "name": "stderr",
     "output_type": "stream",
     "text": [
      " 57%|██████████████████████████████████████████████████████████████████▎                                                  | 17/30 [56:28<43:26, 200.51s/it]"
     ]
    },
    {
     "name": "stdout",
     "output_type": "stream",
     "text": [
      "tr_loss: 0.8448696410862445, val_loss: 2.068289417855061, bleu: 0.0338865676894784\n",
      "Current BLEU:  0.0338865676894784\n",
      "не всё ещё в порядке ---> что то не не так\n",
      "он слушал музыку ---> он был музыку музыку\n",
      "вы делаете большие успехи ---> ты хорошая успехи\n",
      "длина этой реки восемь сот километ ров ---> эта река вчера регбистом\n",
      "сегодня утром ты опоздала ---> ты опоздал этот сегодня\n",
      "##############################\n"
     ]
    },
    {
     "name": "stderr",
     "output_type": "stream",
     "text": [
      " 60%|██████████████████████████████████████████████████████████████████████▏                                              | 18/30 [59:49<40:05, 200.45s/it]"
     ]
    },
    {
     "name": "stdout",
     "output_type": "stream",
     "text": [
      "tr_loss: 0.8131601242662672, val_loss: 2.035363935641129, bleu: 0.04778344880722375\n",
      "Current BLEU:  0.04778344880722375\n",
      "два места остались не занятыми ---> два два ложь\n",
      "том заглянул под диван ---> том посмотрел под нём\n",
      "том считает что мэри лжёт ---> том верит мэри мэри\n",
      "том выглядел уставшим но счастливым ---> том выглядел уставшим но счастливым\n",
      "здесь об гон запрещён ---> разжёг здесь здесь\n",
      "##############################\n"
     ]
    },
    {
     "name": "stderr",
     "output_type": "stream",
     "text": [
      " 63%|████████████████████████████████████████████████████████████████████████▊                                          | 19/30 [1:03:08<36:41, 200.16s/it]"
     ]
    },
    {
     "name": "stdout",
     "output_type": "stream",
     "text": [
      "tr_loss: 0.7842800115169779, val_loss: 2.0166740839498756, bleu: 0.034746414962484554\n",
      "Current BLEU:  0.034746414962484554\n",
      "провода прово дят электричество ---> возможно на на это\n",
      "у тома аллергия на клубнику ---> у тома аллергия на\n",
      "все видели что произошло ---> все видели что случилось\n",
      "тебя все искали ---> все вас свободны\n",
      "том взглянул на остальных ---> том бросил на остальных\n",
      "##############################\n"
     ]
    },
    {
     "name": "stderr",
     "output_type": "stream",
     "text": [
      " 67%|████████████████████████████████████████████████████████████████████████████▋                                      | 20/30 [1:06:29<33:23, 200.30s/it]"
     ]
    },
    {
     "name": "stdout",
     "output_type": "stream",
     "text": [
      "tr_loss: 0.7565405783375068, val_loss: 2.0423007798891, bleu: 0.026373805478215218\n",
      "Current BLEU:  0.026373805478215218\n",
      "правила надо изменить ---> правила быть надо\n",
      "том никогда нас не преда ст ---> том никогда никогда не нас\n",
      "помоги мне почистить картошку ---> помогите мне почисти картошку\n",
      "том приехал около половины третьего ---> том приехал в\n",
      "это случилось совершенно случайно ---> это было совершенно в\n",
      "##############################\n"
     ]
    },
    {
     "name": "stderr",
     "output_type": "stream",
     "text": [
      " 70%|████████████████████████████████████████████████████████████████████████████████▌                                  | 21/30 [1:09:49<30:02, 200.25s/it]"
     ]
    },
    {
     "name": "stdout",
     "output_type": "stream",
     "text": [
      "tr_loss: 0.7312324888725767, val_loss: 2.032358661185216, bleu: 0.0729490676894784\n",
      "Current BLEU:  0.0729490676894784\n",
      "спасибо что выручили меня ---> спасибо что помогает мне\n",
      "это переходный глагол ---> это порвала сонату\n",
      "том вызвал скорую ---> том позвонил позвонил\n",
      "я ищу батарейки ---> я ищу личного\n",
      "том ехал верхом без седла ---> том уютно лошадь лошадь\n",
      "##############################\n"
     ]
    },
    {
     "name": "stderr",
     "output_type": "stream",
     "text": [
      " 73%|████████████████████████████████████████████████████████████████████████████████████▎                              | 22/30 [1:13:09<26:41, 200.18s/it]"
     ]
    },
    {
     "name": "stdout",
     "output_type": "stream",
     "text": [
      "tr_loss: 0.7066518523091061, val_loss: 2.027184383712546, bleu: 0.031298601534217596\n",
      "Current BLEU:  0.031298601534217596\n",
      "он почти никогда не злится ---> он почти никогда не злится\n",
      "сейчас это очень важно ---> это это очень важно\n",
      "мы сами у краси ли комнату ---> мы мы комнату\n",
      "мы были засти гнуты врасплох ---> мы были на\n",
      "том вчера был на работе ---> том вчера был работает\n",
      "##############################\n"
     ]
    },
    {
     "name": "stderr",
     "output_type": "stream",
     "text": [
      " 77%|████████████████████████████████████████████████████████████████████████████████████████▏                          | 23/30 [1:16:29<23:21, 200.28s/it]"
     ]
    },
    {
     "name": "stdout",
     "output_type": "stream",
     "text": [
      "tr_loss: 0.6846804635679059, val_loss: 2.0194463529726017, bleu: 0.0495115676894784\n",
      "Current BLEU:  0.0495115676894784\n",
      "мы используем другой матери ал ---> мы будем идеально\n",
      "я говорил не по французски ---> я не говорил по французски\n",
      "я хочу знать всё ---> я хочу всё всё\n",
      "это абсолютно невозможно ---> это совершенно невозможно\n",
      "никто нам ничего не сказал ---> нам нам ничего не говорил\n",
      "##############################\n"
     ]
    },
    {
     "name": "stderr",
     "output_type": "stream",
     "text": [
      " 80%|████████████████████████████████████████████████████████████████████████████████████████████                       | 24/30 [1:19:50<20:01, 200.26s/it]"
     ]
    },
    {
     "name": "stdout",
     "output_type": "stream",
     "text": [
      "tr_loss: 0.6635480675245266, val_loss: 2.037468309385063, bleu: 0.031298601534217596\n",
      "Current BLEU:  0.031298601534217596\n",
      "мэри вырастила пятерых детей ---> мэри поднял пять детей\n",
      "все рассмеялись кроме тома ---> все смеялись кроме томом\n",
      "поверни направо пожалуйста ---> сделай направо пожалуйста\n",
      "у тома заколотилось сердце ---> у тома сердце\n",
      "том выглядит крайне смущен ным ---> том выглядит выглядит придёт\n",
      "##############################\n"
     ]
    },
    {
     "name": "stderr",
     "output_type": "stream",
     "text": [
      " 83%|███████████████████████████████████████████████████████████████████████████████████████████████▊                   | 25/30 [1:23:09<16:40, 200.13s/it]"
     ]
    },
    {
     "name": "stdout",
     "output_type": "stream",
     "text": [
      "tr_loss: 0.6443483532833423, val_loss: 2.0177965786335244, bleu: 0.08420938111774535\n",
      "Current BLEU:  0.08420938111774535\n",
      "кто нибудь видит разницу ---> кто нибудь нибудь кого\n",
      "я запомню этот вечер ---> я вечером сегодня вечером\n",
      "они испыты вают новое оборудование ---> они в работе новые\n",
      "они не могли защитить себя ---> они не могли хотели покончено\n",
      "мой парень собственник ---> моя меня лето\n",
      "##############################\n"
     ]
    },
    {
     "name": "stderr",
     "output_type": "stream",
     "text": [
      " 87%|███████████████████████████████████████████████████████████████████████████████████████████████████▋               | 26/30 [1:26:30<13:21, 200.31s/it]"
     ]
    },
    {
     "name": "stdout",
     "output_type": "stream",
     "text": [
      "tr_loss: 0.6258717191523602, val_loss: 2.017055241295891, bleu: 0.10066405421866312\n",
      "Current BLEU:  0.10066405421866312\n",
      "полити кам следует держать свои обещания ---> телепат надо свои их\n",
      "найди себе приличный костюм ---> найди себе месяцев костюм\n",
      "том отлично говорит по французски ---> том говорит говорит по французски\n",
      "эй н штей н был математи чески м гением ---> увидимся в в в жут в\n",
      "каково сейчас состояние ---> что сейчас ситуация\n",
      "##############################\n"
     ]
    },
    {
     "name": "stderr",
     "output_type": "stream",
     "text": [
      " 90%|███████████████████████████████████████████████████████████████████████████████████████████████████████▌           | 27/30 [1:29:50<10:00, 200.22s/it]"
     ]
    },
    {
     "name": "stdout",
     "output_type": "stream",
     "text": [
      "tr_loss: 0.6077781270989093, val_loss: 2.0210813205607616, bleu: 0.0286620338447392\n",
      "Current BLEU:  0.0286620338447392\n",
      "ты сам себя ограни чи ваешь ---> ты сам сами\n",
      "цветы всегда жела н ны ---> цветы всегда наелась\n",
      "эти брюки слишком длинные ---> эти брюки слишком длинные\n",
      "тебе нравится древняя история ---> вам нравится нравится историю\n",
      "три солдата были ранены ---> трое были были ранен\n",
      "##############################\n"
     ]
    },
    {
     "name": "stderr",
     "output_type": "stream",
     "text": [
      " 93%|███████████████████████████████████████████████████████████████████████████████████████████████████████████▎       | 28/30 [1:33:10<06:40, 200.00s/it]"
     ]
    },
    {
     "name": "stdout",
     "output_type": "stream",
     "text": [
      "tr_loss: 0.5919632046952938, val_loss: 2.0339759048754282, bleu: 0.03407868645882921\n",
      "Current BLEU:  0.03407868645882921\n",
      "я думал ты лжёшь ---> я думал вы врёшь\n",
      "почему ты нас обманул ---> почему ты нас нас\n",
      "водитель открыл дверь ---> провинился дверь дверь\n",
      "вы праздну ете рождество ---> вы рождество рождество\n",
      "том принялся флирто вать с мэри ---> том начал с мэри мэри\n",
      "##############################\n"
     ]
    },
    {
     "name": "stderr",
     "output_type": "stream",
     "text": [
      " 97%|███████████████████████████████████████████████████████████████████████████████████████████████████████████████▏   | 29/30 [1:36:30<03:20, 200.20s/it]"
     ]
    },
    {
     "name": "stdout",
     "output_type": "stream",
     "text": [
      "tr_loss: 0.57570965986091, val_loss: 2.032733868073373, bleu: 0.03997094880722375\n",
      "Current BLEU:  0.03997094880722375\n",
      "моя сестра гладит мои брюки ---> моя сестра моей моей брюки\n",
      "я всё объясню потом ---> я потом позже позже\n",
      "вы любите играть в баскетбол ---> вы любишь играешь в баскетбол\n",
      "это действительно так важно ---> это действительно так важно\n",
      "один из ваших соседей пожаловался ---> один из вас соседи\n",
      "##############################\n"
     ]
    },
    {
     "name": "stderr",
     "output_type": "stream",
     "text": [
      "100%|███████████████████████████████████████████████████████████████████████████████████████████████████████████████████| 30/30 [1:39:51<00:00, 199.71s/it]"
     ]
    },
    {
     "name": "stdout",
     "output_type": "stream",
     "text": [
      "tr_loss: 0.561330939735623, val_loss: 2.0312200736825483, bleu: 0.10074282992496911\n",
      "Current BLEU:  0.10074282992496911\n",
      "пожалуйста включите телевизор ---> включите пожалуйста телевизор\n",
      "ему насту пили на ногу ---> кто то то на\n",
      "том режет нож ница ми укро п ---> том без ходит с\n",
      "осталось всего три штуки ---> есть всего осталось осталось\n",
      "пожалуйста вернитесь после обеда ---> пожалуйста возвращайся этот той\n",
      "##############################\n",
      "Last 29 epoch train loss:  0.561330939735623\n",
      "Last 29 epoch val loss:  2.0312200736825483\n",
      "Last 29 epoch val bleu:  0.10074282992496911\n"
     ]
    },
    {
     "name": "stderr",
     "output_type": "stream",
     "text": [
      "\n"
     ]
    }
   ],
   "source": [
    "import torch\n",
    "import yaml\n",
    "import os\n",
    "from models import trainer\n",
    "from data.datamodule import DataManager\n",
    "from txt_logger import TXTLogger\n",
    "from models.seq2seq_transformer import Seq2SeqTransformer\n",
    "\n",
    "path = \"C:/Users/peter/anaconda3/envs/cv/Scripts/pytorch-machine-translation-hw\"\n",
    "\n",
    "if torch.cuda.is_available():\n",
    "    DEVICE = \"cuda\"\n",
    "else:\n",
    "    DEVICE = 'cpu'\n",
    "\n",
    "data_config = yaml.load(open(os.path.join(path, \"configs/data_config.yaml\"), 'r'),   Loader=yaml.Loader)\n",
    "dm = DataManager(data_config, DEVICE)\n",
    "train_dataloader, dev_dataloader = dm.prepare_data()\n",
    "\n",
    "model_config = yaml.load(open(os.path.join(path, \"configs/model_config.yaml\"), 'r'),   Loader=yaml.Loader)\n",
    "\n",
    "# TODO: Инициализируйте модель Seq2SeqTransformer\n",
    "model = Seq2SeqTransformer(device=DEVICE,\n",
    "                          embedding_size=model_config[\"embedding_size\"],\n",
    "                          num_encoder_layers=model_config[\"num_encoder_layers\"],\n",
    "                          dim_feedforward=model_config[\"hidden_size\"],\n",
    "                          src_voc_size=len(dm.source_tokenizer.tokenizer.get_vocab()),\n",
    "                          trg_voc_size=len(dm.target_tokenizer.tokenizer.get_vocab()),\n",
    "                          target_tokenizer=dm.target_tokenizer,\n",
    "                          source_tokenizer=dm.source_tokenizer,\n",
    "                          lr_decay_step=model_config[\"epoch_num\"]/5,\n",
    "                          lr = model_config[\"lr\"],\n",
    "                          lr_decay=model_config[\"lr_decay\"]\n",
    "                          )\n",
    "\n",
    "logger = TXTLogger('training_logs')\n",
    "trainer_cls = trainer.Trainer(model=model, model_config=model_config, logger=logger)\n",
    "\n",
    "if model_config['try_one_batch']:\n",
    "    train_dataloader = [list(train_dataloader)[0]]\n",
    "    dev_dataloader = [list(val_dataloader)[0]]\n",
    "\n",
    "trainer_cls.train(train_dataloader, dev_dataloader)"
   ]
  },
  {
   "cell_type": "code",
   "execution_count": 2,
   "id": "994b73ff-0f57-4b1c-8775-680d4861d555",
   "metadata": {},
   "outputs": [
    {
     "data": {
      "text/plain": [
       "{'embedding_size': 256,\n",
       " 'num_encoder_layers': 8,\n",
       " 'hidden_size': 4096,\n",
       " 'epoch_num': 30,\n",
       " 'try_one_batch': False,\n",
       " 'lr': 0.0001,\n",
       " 'lr_decay': 0.1}"
      ]
     },
     "execution_count": 2,
     "metadata": {},
     "output_type": "execute_result"
    }
   ],
   "source": [
    "model_config"
   ]
  },
  {
   "cell_type": "code",
   "execution_count": 3,
   "id": "805938ac-bf61-4b25-9bf2-4feeeb53f10a",
   "metadata": {},
   "outputs": [
    {
     "data": {
      "text/plain": [
       "{'prefix_filter': None,\n",
       " 'max_length': 5,\n",
       " 'filename': 'C:/Users/peter/anaconda3/envs/cv/Scripts/pytorch-machine-translation-hw/data/rus.txt',\n",
       " 'train_size': 0.8,\n",
       " 'batch_size': 128}"
      ]
     },
     "execution_count": 3,
     "metadata": {},
     "output_type": "execute_result"
    }
   ],
   "source": [
    "data_config"
   ]
  },
  {
   "cell_type": "code",
   "execution_count": 4,
   "id": "45e2d776-09fa-4e9a-b0f1-b18dffeee6ab",
   "metadata": {},
   "outputs": [
    {
     "data": {
      "image/png": "[encoded data removed]",
      "text/plain": [
       "<Figure size 2000x500 with 2 Axes>"
      ]
     },
     "metadata": {},
     "output_type": "display_data"
    }
   ],
   "source": [
    "import re\n",
    "import matplotlib.pyplot as plt\n",
    "MATCH_REGEX = re.compile(r\"[+-]?\\b(\\d+([.]\\d*)?([eE][+-]?\\d+)?|[.]\\d+([eE][+-]?\\d+)?)\\b\")\n",
    "\n",
    "def extract_values(string):\n",
    "    result = dict()\n",
    "    params = ['val_loss', 'train_loss', 'bleu_score']\n",
    "    if \"train_loss\" in string:\n",
    "        found_vals = [re_match[0] for re_match in re.findall(MATCH_REGEX, string)]\n",
    "    \n",
    "        if len(params) == len(found_vals):\n",
    "            for name, val in zip(params, found_vals):\n",
    "                result[name] = float(val)\n",
    "    return result\n",
    "\n",
    "def plot_results(train_loss_list, val_loss_list, val_bleu_list, run_name):\n",
    "    fig, (ax1, ax2) = plt.subplots(1, 2, figsize=(20, 5))\n",
    "    \n",
    "    ax1.plot(range(len(train_loss_list)), train_loss_list, label='train loss')\n",
    "    ax1.plot(range(len(val_loss_list)), val_loss_list, label='val loss')\n",
    "    ax1.set_xlabel('epoch')\n",
    "    ax1.set_ylabel('loss')\n",
    "    ax1.legend()\n",
    "    \n",
    "    ax2.plot(range(len(val_bleu_list)), val_bleu_list, label='val bleu')\n",
    "    ax2.set_xlabel('epoch')\n",
    "    ax2.set_ylabel('BLEU')\n",
    "    ax2.legend()\n",
    "    \n",
    "    fig.suptitle(run_name, fontsize=20)\n",
    "    plt.show()\n",
    "\n",
    "DATAPATH = os.path.join(path, 'training_logs')\n",
    "progress_file_path = os.path.join(DATAPATH, \"progress_log.txt\")\n",
    "file_content = open(progress_file_path, 'r').read().split(\"\\n\")\n",
    "\n",
    "train_loss_list, val_loss_list, val_bleu_list = [], [], []\n",
    "for line in file_content:\n",
    "    d = extract_values(line)\n",
    "    if len(d) > 0:\n",
    "        train_loss_list.append(d['train_loss'])\n",
    "        val_loss_list.append(d['val_loss'])\n",
    "        val_bleu_list.append(d['bleu_score'])\n",
    "    \n",
    "        \n",
    "plot_results(train_loss_list, val_loss_list, val_bleu_list, run_name='Transformer training')"
   ]
  },
  {
   "cell_type": "code",
   "execution_count": 20,
   "id": "ce5c27ac-6aa2-480c-8cd8-4166c2a0cdbb",
   "metadata": {},
   "outputs": [
    {
     "data": {
      "text/plain": [
       "['он слишком самоуверен',\n",
       " 'она пока человек',\n",
       " 'он жадный',\n",
       " 'он добрый',\n",
       " 'она шутит',\n",
       " 'он смотрит',\n",
       " 'она играет в в',\n",
       " 'пёс ест мясо',\n",
       " 'дети играют в футбол',\n",
       " 'надо плавать']"
      ]
     },
     "execution_count": 20,
     "metadata": {},
     "output_type": "execute_result"
    }
   ],
   "source": [
    "sentences_to_predict = [\n",
    "    \"he is overconfident\",\n",
    "    \"she s an emotional person\",\n",
    "    \"he is greedy\",\n",
    "    \"he is kind\",\n",
    "    \"she is kidding\",\n",
    "    \"he s watching TV\",\n",
    "    \"she is playing with dolls\",\n",
    "    \"dog eats meat\",\n",
    "    \"children play football\",\n",
    "    \"We are going to swim\"\n",
    "]\n",
    "\n",
    "list(map(\" \".join, trainer_cls.translate(sentences_to_predict)))"
   ]
  },
  {
   "cell_type": "markdown",
   "id": "245297ae-d62b-4227-9312-ccff5a1c13c9",
   "metadata": {},
   "source": [
    "### Fine-tune pretrained T5 (25 баллов)\n",
    "\n",
    "Реализуйте Seq2seq Pretrained T5. Воспользуйтесь https://huggingface.co/docs/transformers/model_doc/t5 предобученной моделью. В качестве максимальной длинны возьмите предложения длинной **до 15 слов**, без каких либо префиксов. Архитектура модели(количетсво слоев, размерность и тд) остается на ваш выбор.\n",
    "\n",
    "Не забудьте важные аспекты обучения модели:\n",
    "* Взять готовый t5 токенизатор\n",
    "* Resize matrix embedding - скорей всего ваша матрица эмбеддингов не будет включать эмбеддинги из вашего сета. Пример обновления матрицы эмбеддингов тут тут https://github.com/runnerup96/Transformers-Tuning/blob/main/t5_encoder_decoder.py\n",
    "* Learning rate schedualer/Adafactor with constant learning rate\n",
    "\n",
    "\n",
    "В качестве результатов, приложите слудующие данные:\n",
    "1) Параметры обучения - learning rate, batch_size, epoch_num, pretrained model name\n",
    "2) Графики обучения - train loss, val loss, bleu score\n",
    "3) Примеры переводов вашей модели(10 штук) - source text, true target text, predicted target text"
   ]
  },
  {
   "cell_type": "code",
   "execution_count": 6,
   "id": "5993bdc9-44f6-4af8-8e46-36d4e6824ca4",
   "metadata": {},
   "outputs": [],
   "source": [
    "# CODE HERE"
   ]
  }
 ],
 "metadata": {
  "kernelspec": {
   "display_name": "Python 3 (ipykernel)",
   "language": "python",
   "name": "python3"
  },
  "language_info": {
   "codemirror_mode": {
    "name": "ipython",
    "version": 3
   },
   "file_extension": ".py",
   "mimetype": "text/x-python",
   "name": "python",
   "nbconvert_exporter": "python",
   "pygments_lexer": "ipython3",
   "version": "3.10.13"
  }
 },
 "nbformat": 4,
 "nbformat_minor": 5
}
